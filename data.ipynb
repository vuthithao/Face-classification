{
 "cells": [
  {
   "cell_type": "code",
   "execution_count": null,
   "metadata": {},
   "outputs": [],
   "source": [
    "import pandas as pd\n",
    "import os\n",
    "import shutil\n",
    "\n",
    "data = pd.read_csv('vn_celeb_face_recognition/train.csv')"
   ]
  },
  {
   "cell_type": "code",
   "execution_count": null,
   "metadata": {},
   "outputs": [],
   "source": [
    "label_ = list(data['label'])\n",
    "label = list(set(list(data['label'])))"
   ]
  },
  {
   "cell_type": "code",
   "execution_count": null,
   "metadata": {},
   "outputs": [],
   "source": [
    "list_celeb = os.listdir('data/train')\n",
    "cnt = 0\n",
    "for i in label:\n",
    "#     if label_.count(i) > 8:\n",
    "    if i not in list_celeb:\n",
    "        dst = 'celeb/test/' + str(i)\n",
    "#         dst_ = 'celeb/test/' + str(i)\n",
    "        os.mkdir(dst)\n",
    "#         os.mkdir(dst_)\n",
    "        d = list(data[data['label'] == i]['image'])\n",
    "        for j in range(len(d)):\n",
    "#             if j < 3 :\n",
    "#                 src = 'vn_celeb_face_recognition/train/' + d[j]\n",
    "#                 shutil.move(src, dst_)\n",
    "#             else:\n",
    "                src = 'vn_celeb_face_recognition/train/' + d[j]\n",
    "                shutil.move(src, dst)\n",
    "        cnt += 1\n",
    "        if cnt > 100:\n",
    "            break"
   ]
  },
  {
   "cell_type": "code",
   "execution_count": null,
   "metadata": {},
   "outputs": [],
   "source": [
    "# Test"
   ]
  },
  {
   "cell_type": "code",
   "execution_count": 1,
   "metadata": {
    "scrolled": true
   },
   "outputs": [],
   "source": [
    "# from mtcnn.mtcnn import MTCNN\n",
    "from numpy import savez_compressed\n",
    "\n",
    "from numpy import load\n",
    "from sklearn.metrics import accuracy_score\n",
    "from sklearn.preprocessing import LabelEncoder\n",
    "from sklearn.preprocessing import Normalizer\n",
    "from sklearn.svm import SVC\n",
    "import pickle\n",
    "from utils import *\n",
    "import joblib\n",
    "from matplotlib import pyplot\n",
    "import os\n",
    "import torch\n",
    "\n",
    "from facenet_pytorch import MTCNN\n",
    "device = 'cuda:0' if torch.cuda.is_available() else 'cpu'\n",
    "\n",
    "detector = MTCNN(margin=40, device=device, post_process=False)\n",
    "\n",
    "# #crops the faces\n",
    "# mtcnn = MTCNN()"
   ]
  },
  {
   "cell_type": "code",
   "execution_count": 2,
   "metadata": {},
   "outputs": [
    {
     "name": "stdout",
     "output_type": "stream",
     "text": [
      "Loaded Model\n"
     ]
    }
   ],
   "source": [
    "# load tfl model\n",
    "tfl_file = \"facenet.tflite\"\n",
    "model = load_tflite_model(tfl_file)\n",
    "print('Loaded Model')"
   ]
  },
  {
   "cell_type": "code",
   "execution_count": 3,
   "metadata": {},
   "outputs": [],
   "source": [
    "path = 'data_test/train/BillGates/Bill_Gates_0000.jpg'\n",
    "\n",
    "def acc(path, model):\n",
    "    img = read_image(path)\n",
    "    face = pre_process(detector, img)\n",
    "\n",
    "    # convert each face in the train set to an embedding\n",
    "    embedding = predict(model, face)\n",
    "    embedding = asarray([embedding])\n",
    "\n",
    "    # normalize input vectors\n",
    "    in_encoder = Normalizer(norm='l2')\n",
    "    out_encoder = LabelEncoder()\n",
    "    file = open(\"class.obj\",'rb')\n",
    "    out_encoder = pickle.load(file)\n",
    "    file.close()\n",
    "\n",
    "    embedding = in_encoder.transform(embedding)\n",
    "\n",
    "    filename = 'classifer_model.sav'\n",
    "    # load the model from disk\n",
    "    model = joblib.load(filename)\n",
    "    yhat_class = model.predict(embedding)\n",
    "    yhat_prob = model.predict_proba(embedding)\n",
    "    class_index = yhat_class[0]\n",
    "    class_probability = yhat_prob[0,class_index] * 100\n",
    "    return class_probability"
   ]
  },
  {
   "cell_type": "code",
   "execution_count": 4,
   "metadata": {},
   "outputs": [
    {
     "name": "stdout",
     "output_type": "stream",
     "text": [
      "0.27324093346084866\n"
     ]
    }
   ],
   "source": [
    "import time\n",
    "path_true = 'data/train'\n",
    "path_false = 'celeb/test'\n",
    "match = []\n",
    "start = time.time()\n",
    "cnt = 0\n",
    "for i in os.listdir(path_true):\n",
    "    for j in os.listdir(os.path.join(path_true, i)):\n",
    "        path = os.path.join(path_true, i, j)\n",
    "        match.append(acc(path, model))\n",
    "        cnt+=1\n",
    "end = time.time()\n",
    "ti = (end - start)/cnt\n",
    "print(ti)\n",
    "un_match = []\n",
    "for i in os.listdir(path_false):\n",
    "    for j in os.listdir(os.path.join(path_false, i)):\n",
    "        try:\n",
    "            path = os.path.join(path_false, i, j)\n",
    "            un_match.append(acc(path, model))\n",
    "        except:\n",
    "            continue"
   ]
  },
  {
   "cell_type": "code",
   "execution_count": 5,
   "metadata": {},
   "outputs": [
    {
     "data": {
      "image/png": "[encoded data removed]",
      "text/plain": [
       "<Figure size 432x288 with 1 Axes>"
      ]
     },
     "metadata": {
      "needs_background": "light"
     },
     "output_type": "display_data"
    }
   ],
   "source": [
    "import matplotlib.pyplot as plt\n",
    "_,_,_=plt.hist(match,bins=100)\n",
    "_,_,_=plt.hist(un_match,bins=100,fc=(1, 0, 0, 0.5))\n",
    "\n",
    "plt.show()"
   ]
  },
  {
   "cell_type": "code",
   "execution_count": null,
   "metadata": {},
   "outputs": [],
   "source": []
  }
 ],
 "metadata": {
  "kernelspec": {
   "display_name": "Python 3",
   "language": "python",
   "name": "python3"
  },
  "language_info": {
   "codemirror_mode": {
    "name": "ipython",
    "version": 3
   },
   "file_extension": ".py",
   "mimetype": "text/x-python",
   "name": "python",
   "nbconvert_exporter": "python",
   "pygments_lexer": "ipython3",
   "version": "3.6.10"
  }
 },
 "nbformat": 4,
 "nbformat_minor": 4
}
